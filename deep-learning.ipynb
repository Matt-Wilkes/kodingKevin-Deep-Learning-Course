{
  "nbformat": 4,
  "nbformat_minor": 0,
  "metadata": {
    "colab": {
      "provenance": [],
      "authorship_tag": "ABX9TyMr54OjFT8fGKXR8gCW2EIE"
    },
    "kernelspec": {
      "name": "python3",
      "display_name": "Python 3"
    },
    "language_info": {
      "name": "python"
    }
  },
  "cells": [
    {
      "cell_type": "code",
      "execution_count": 2,
      "metadata": {
        "id": "gTl6EvnLhrjp"
      },
      "outputs": [],
      "source": [
        "age = 25"
      ]
    },
    {
      "cell_type": "code",
      "source": [
        "age += 1"
      ],
      "metadata": {
        "id": "Pi2Er1bvi_9H"
      },
      "execution_count": 6,
      "outputs": []
    },
    {
      "cell_type": "code",
      "source": [
        "print(age)"
      ],
      "metadata": {
        "colab": {
          "base_uri": "https://localhost:8080/"
        },
        "id": "RnWea-GOit2B",
        "outputId": "0f871b34-0329-49f4-8303-f23aa23e7a70"
      },
      "execution_count": 7,
      "outputs": [
        {
          "output_type": "stream",
          "name": "stdout",
          "text": [
            "26\n"
          ]
        }
      ]
    }
  ]
}